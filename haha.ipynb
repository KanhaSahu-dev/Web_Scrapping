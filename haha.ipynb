{
 "cells": [
  {
   "cell_type": "code",
   "execution_count": 1,
   "metadata": {},
   "outputs": [],
   "source": [
    "import subprocess\n",
    "import os\n",
    "\n",
    "# Command to start the Node.js server in the background\n",
    "command = \"node server.js\"\n",
    "\n",
    "# Redirecting stdout and stderr to /dev/null or NUL\n",
    "with open(os.devnull, 'w') as DEVNULL:\n",
    "    try:\n",
    "        subprocess.Popen(command, shell=True, stdout=DEVNULL, stderr=DEVNULL)\n",
    "    except subprocess.CalledProcessError as e:\n",
    "        print(\"Error:\", e)\n"
   ]
  },
  {
   "cell_type": "code",
   "execution_count": 2,
   "metadata": {},
   "outputs": [
    {
     "data": {
      "text/plain": [
       "True"
      ]
     },
     "execution_count": 2,
     "metadata": {},
     "output_type": "execute_result"
    }
   ],
   "source": [
    "import webbrowser\n",
    "\n",
    "# Path to your index2.html file\n",
    "html_file_path = \"index2.html\"  # Replace this with the actual path to your index2.html file\n",
    "\n",
    "# Open index2.html file in the default web browser\n",
    "webbrowser.open_new_tab(html_file_path)"
   ]
  },
  {
   "cell_type": "code",
   "execution_count": 10,
   "metadata": {},
   "outputs": [
    {
     "name": "stdout",
     "output_type": "stream",
     "text": [
      "hello is this code even running?\n",
      "hello is this code even running?\n"
     ]
    }
   ],
   "source": [
    "import json\n",
    "import time\n",
    "from watchdog.observers import Observer\n",
    "from watchdog.events import FileSystemEventHandler\n",
    "\n",
    "# Your function that reruns when keyword or page number changes\n",
    "def rerun(keyword, pageno):\n",
    "    # Your existing code here\n",
    "    print(\"hello is this code even running?\")\n",
    "    # End of your existing code\n",
    "\n",
    "# Global variable to store the previous state of the data\n",
    "previous_data = {}\n",
    "\n",
    "# Define a function to handle file system events\n",
    "class MyHandler(FileSystemEventHandler):\n",
    "    def on_modified(self, event):\n",
    "        global previous_data\n",
    "        \n",
    "        # Read data from data.json file\n",
    "        with open('data.json', 'r') as file:\n",
    "            data = json.load(file)\n",
    "\n",
    "        # Compare current data with previous data\n",
    "        if data != previous_data:\n",
    "            # Extract values\n",
    "            keyword = data['name']\n",
    "            pageno = data['page']\n",
    "\n",
    "            # Print extracted values\n",
    "            \n",
    "\n",
    "            # Rerun your function if keyword or page number changes\n",
    "            rerun(keyword, pageno)\n",
    "\n",
    "            # Update previous_data with current data\n",
    "            previous_data.update(data)\n",
    "\n",
    "# Create an observer and attach the handler\n",
    "event_handler = MyHandler()\n",
    "observer = Observer()\n",
    "observer.schedule(event_handler, path='.', recursive=False)\n",
    "observer.start()\n",
    "\n",
    "try:\n",
    "    while True:\n",
    "        time.sleep(1)\n",
    "except KeyboardInterrupt:\n",
    "    observer.stop()\n",
    "observer.join()\n"
   ]
  }
 ],
 "metadata": {
  "kernelspec": {
   "display_name": "Python 3",
   "language": "python",
   "name": "python3"
  },
  "language_info": {
   "codemirror_mode": {
    "name": "ipython",
    "version": 3
   },
   "file_extension": ".py",
   "mimetype": "text/x-python",
   "name": "python",
   "nbconvert_exporter": "python",
   "pygments_lexer": "ipython3",
   "version": "3.11.0"
  }
 },
 "nbformat": 4,
 "nbformat_minor": 2
}
