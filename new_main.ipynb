{
 "cells": [
  {
   "cell_type": "code",
   "execution_count": 1,
   "metadata": {},
   "outputs": [],
   "source": [
    "import pandas as pd\n",
    "import numpy as np\n",
    "import matplotlib.pyplot as plt\n",
    "import seaborn as sns\n",
    "%matplotlib inline\n",
    "import re\n",
    "import time\n",
    "from datetime import datetime\n",
    "import matplotlib.dates as mdates\n",
    "import matplotlib.ticker as ticker\n",
    "from urllib.request import urlopen\n",
    "from bs4 import BeautifulSoup\n",
    "import requests\n"
   ]
  },
  {
   "cell_type": "code",
   "execution_count": 2,
   "metadata": {},
   "outputs": [],
   "source": [
    "import re\n",
    "from selenium import webdriver\n",
    "from selenium.webdriver.chrome.options import Options\n",
    "from bs4 import BeautifulSoup\n",
    "\n",
    "def get_data(pageNo, keyword):  \n",
    "    chrome_options = Options()\n",
    "    chrome_options.add_argument(\"--headless\")  # Run Chrome in headless mode (no GUI)\n",
    "    driver = webdriver.Chrome(options=chrome_options)\n",
    "\n",
    "    url = f'https://www.amazon.in/s?k={keyword}&page={pageNo}'\n",
    "    driver.get(url)\n",
    "\n",
    "    # Wait for a certain element to be present (adjust as needed)\n",
    "    driver.implicitly_wait(10)\n",
    "\n",
    "    content = driver.page_source\n",
    "    soup = BeautifulSoup(content, 'html.parser')\n",
    "\n",
    "    alls = []\n",
    "    unknown_count = 0  # Counter for Unknown-Product\n",
    "    for d in soup.find_all('div', class_='sg-col-inner'):\n",
    "        # Check the first class\n",
    "        name_element = d.find('span', class_='a-size-medium a-color-base a-text-normal')\n",
    "        \n",
    "        # If the first class is not found, check the second class\n",
    "        if not name_element:\n",
    "            name_element = d.find('span', class_='a-size-base-plus a-color-base a-text-normal')\n",
    "\n",
    "        # Skip if the name is not available\n",
    "        if not name_element:\n",
    "            continue\n",
    "\n",
    "        # Extract the name\n",
    "        name = name_element.text.strip()\n",
    "\n",
    "        # Count Unknown-Product and skip the first 4\n",
    "        if name == \"Unknown-Product\":\n",
    "            unknown_count += 1\n",
    "            if unknown_count <= 4:\n",
    "                continue\n",
    "\n",
    "        rating_element = d.find('span', attrs={'class': 'a-icon-alt'})\n",
    "        rating = rating_element.text.strip() if rating_element else \"0\"\n",
    "\n",
    "        users_rated_element = d.find('span', attrs={'class': 'a-size-base s-underline-text'})\n",
    "        users_rated_text = users_rated_element.text.strip() if users_rated_element else \"0\"\n",
    "        \n",
    "        # Use a try-except block to handle the conversion safely\n",
    "        try:\n",
    "            users_rated = int(re.sub('[^0-9]', '', users_rated_text))\n",
    "        except ValueError:\n",
    "            users_rated = 0\n",
    "\n",
    "        price_element = d.find('span', attrs={'class': 'a-price-whole'})\n",
    "        \n",
    "        price = \"Rs \"+price_element.text.strip() if price_element else \"0\"\n",
    "\n",
    "        url_element = d.find('a', class_='a-link-normal s-no-outline')\n",
    "        url = \"https://www.amazon.in\" + url_element['href'] if url_element else \"Not Found\"\n",
    "\n",
    "        all1 = [name, rating, users_rated, price, url]\n",
    "        alls.append(all1)\n",
    "\n",
    "    driver.quit()\n",
    "\n",
    "    return alls\n",
    "\n",
    "\n",
    "\n"
   ]
  },
  {
   "cell_type": "code",
   "execution_count": 3,
   "metadata": {},
   "outputs": [],
   "source": [
    "import subprocess\n",
    "import os\n",
    "\n",
    "# Command to start the Node.js server in the background\n",
    "command = \"node server.js\"\n",
    "\n",
    "# Redirecting stdout and stderr to /dev/null or NUL\n",
    "with open(os.devnull, 'w') as DEVNULL:\n",
    "    try:\n",
    "        subprocess.Popen(command, shell=True, stdout=DEVNULL, stderr=DEVNULL)\n",
    "    except subprocess.CalledProcessError as e:\n",
    "        print(\"Error:\", e)"
   ]
  },
  {
   "cell_type": "code",
   "execution_count": 4,
   "metadata": {},
   "outputs": [
    {
     "data": {
      "text/plain": [
       "True"
      ]
     },
     "execution_count": 4,
     "metadata": {},
     "output_type": "execute_result"
    }
   ],
   "source": [
    "import webbrowser\n",
    "\n",
    "# Path to your index2.html file\n",
    "html_file_path = \"index2.html\"  # Replace this with the actual path to your index2.html file\n",
    "\n",
    "# Open index2.html file in the default web browser\n",
    "webbrowser.open_new_tab(html_file_path)"
   ]
  },
  {
   "cell_type": "code",
   "execution_count": 5,
   "metadata": {},
   "outputs": [],
   "source": [
    "import json\n",
    "import time\n",
    "import pandas as pd  # Import pandas module at the beginning\n",
    "from watchdog.observers import Observer\n",
    "from watchdog.events import FileSystemEventHandler\n"
   ]
  },
  {
   "cell_type": "code",
   "execution_count": 6,
   "metadata": {},
   "outputs": [
    {
     "name": "stdout",
     "output_type": "stream",
     "text": [
      "Error: Command '['python', 'script.py']' returned non-zero exit status 2.\n",
      "Error: Command '['python', 'script.py']' returned non-zero exit status 2.\n"
     ]
    }
   ],
   "source": [
    "import subprocess\n",
    "\n",
    "# Global variable to store the previous state of the data\n",
    "previous_data = {}\n",
    "\n",
    "# Define a function to handle file system events\n",
    "class MyHandler(FileSystemEventHandler):\n",
    "    def on_modified(self, event):\n",
    "        global previous_data\n",
    "        \n",
    "        # Read data from data.json file\n",
    "        with open('data.json', 'r') as file:\n",
    "            data = json.load(file)\n",
    "\n",
    "        # Compare current data with previous data\n",
    "        if data != previous_data:\n",
    "            # Extract values\n",
    "            keyword = data['name']\n",
    "            pageno = data['page']\n",
    "\n",
    "            # Rerun your function if keyword or page number changes\n",
    "            \n",
    "            # Your function that reruns when keyword or page number changes\n",
    "            results = []\n",
    "            for i in range(1, int(pageno)+1):\n",
    "                results.append(get_data(i,keyword))\n",
    "            flatten = lambda l: [item for sublist in l for item in sublist]\n",
    "            df = pd.DataFrame(flatten(results),columns=['Product Name','Rating','Customers_Rated', 'Price', 'URL'])\n",
    "            df.to_csv('amazon_products.csv', index=False, encoding='utf-8')\n",
    "            df = pd.read_csv(\"amazon_products.csv\")\n",
    "            try:\n",
    "                subprocess.run([\"python\", \"script.py\"], check=True)\n",
    "            except subprocess.CalledProcessError as e:\n",
    "                print(f\"Error: {e}\")\n",
    "            # Update previous_data with current data\n",
    "            previous_data.update(data)\n",
    "\n",
    "# Create an observer and attach the handler\n",
    "event_handler = MyHandler()\n",
    "observer = Observer()\n",
    "observer.schedule(event_handler, path='.', recursive=False)\n",
    "observer.start()\n",
    "\n",
    "try:\n",
    "    while True:\n",
    "        time.sleep(1)\n",
    "except KeyboardInterrupt:\n",
    "    observer.stop()\n",
    "observer.join()\n"
   ]
  }
 ],
 "metadata": {
  "kernelspec": {
   "display_name": "Python 3",
   "language": "python",
   "name": "python3"
  },
  "language_info": {
   "codemirror_mode": {
    "name": "ipython",
    "version": 3
   },
   "file_extension": ".py",
   "mimetype": "text/x-python",
   "name": "python",
   "nbconvert_exporter": "python",
   "pygments_lexer": "ipython3",
   "version": "3.11.0"
  }
 },
 "nbformat": 4,
 "nbformat_minor": 2
}
